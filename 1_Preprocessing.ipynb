{
 "cells": [
  {
   "cell_type": "code",
   "execution_count": 3,
   "metadata": {},
   "outputs": [],
   "source": [
    "import numpy as np\n",
    "import pandas as pd\n",
    "import matplotlib.pyplot as plt\n",
    "import yfinance as yf\n",
    "\n",
    "import warnings\n",
    "warnings.filterwarnings('ignore')\n"
   ]
  },
  {
   "cell_type": "code",
   "execution_count": 4,
   "metadata": {},
   "outputs": [
    {
     "name": "stdout",
     "output_type": "stream",
     "text": [
      "YF.download() has changed argument auto_adjust default to True\n"
     ]
    },
    {
     "name": "stderr",
     "output_type": "stream",
     "text": [
      "[*********************100%***********************]  1 of 1 completed\n",
      "[*********************100%***********************]  1 of 1 completed\n"
     ]
    }
   ],
   "source": [
    "start_date = '2015-01-01'\n",
    "end_date = '2024-12-31'\n",
    "\n",
    "SP500 = yf.download(\"^GSPC\", start=start_date, end=end_date, interval=\"1d\")\n",
    "tsla = yf.download(\"TSLA\", start=start_date, end=end_date, interval=\"1d\")\n",
    "\n",
    "sp500 = SP500[['Close']].copy()\n",
    "tesla = tsla[['Close']].copy()\n",
    "\n",
    "sp500.rename(columns={'Close': 'SP500_Close'}, inplace=True)\n",
    "tesla.rename(columns={'Close': 'TSLA_Close'}, inplace=True)\n",
    "\n",
    "#Handle missing values\n",
    "sp500.fillna(method='ffill', inplace=True)\n",
    "tesla.fillna(method='ffill', inplace=True)"
   ]
  },
  {
   "cell_type": "code",
   "execution_count": 5,
   "metadata": {},
   "outputs": [],
   "source": [
    "# Split/Train data\n",
    "split_date = '2023-01-01'\n",
    "\n",
    "#SP500\n",
    "sp500_train = sp500.loc[sp500.index < split_date, 'SP500_Close']\n",
    "sp500_test = sp500.loc[sp500.index >= split_date, 'SP500_Close']\n",
    "\n",
    "#Tesla\n",
    "tesla_train = tesla.loc[tesla.index < split_date, 'TSLA_Close']\n",
    "tesla_test = tesla.loc[tesla.index >= split_date, 'TSLA_Close']\n",
    "\n",
    "#Save data for models\n",
    "sp500_train.to_csv(\"Datasets/sp500_train.csv\")\n",
    "sp500_test.to_csv(\"Datasets/sp500_test.csv\")\n",
    "\n",
    "tesla_train.to_csv(\"Datasets/tesla_train.csv\")\n",
    "tesla_test.to_csv(\"Datasets/tesla_test.csv\")\n",
    "\n"
   ]
  },
  {
   "cell_type": "code",
   "execution_count": null,
   "metadata": {},
   "outputs": [],
   "source": []
  }
 ],
 "metadata": {
  "kernelspec": {
   "display_name": "tensorflow",
   "language": "python",
   "name": "python3"
  },
  "language_info": {
   "codemirror_mode": {
    "name": "ipython",
    "version": 3
   },
   "file_extension": ".py",
   "mimetype": "text/x-python",
   "name": "python",
   "nbconvert_exporter": "python",
   "pygments_lexer": "ipython3",
   "version": "3.11.5"
  }
 },
 "nbformat": 4,
 "nbformat_minor": 2
}
