{
 "cells": [
  {
   "cell_type": "code",
   "execution_count": 16,
   "metadata": {},
   "outputs": [],
   "source": [
    "import numpy as np\n",
    "import pandas as pd\n",
    "import matplotlib.pyplot as plt\n",
    "import yfinance as yf\n",
    "\n",
    "import warnings\n",
    "warnings.filterwarnings('ignore')\n"
   ]
  },
  {
   "cell_type": "code",
   "execution_count": 17,
   "metadata": {},
   "outputs": [
    {
     "name": "stderr",
     "output_type": "stream",
     "text": [
      "[*********************100%***********************]  1 of 1 completed\n",
      "[*********************100%***********************]  1 of 1 completed\n"
     ]
    }
   ],
   "source": [
    "start_date = '2015-01-01'\n",
    "end_date = '2024-12-31'\n",
    "\n",
    "# Download data from Yahoo Finance\n",
    "SP500 = yf.download(\"^GSPC\", start=start_date, end=end_date, interval=\"1d\", multi_level_index = False)\n",
    "tsla = yf.download(\"TSLA\", start=start_date, end=end_date, interval=\"1d\", multi_level_index = False)\n"
   ]
  },
  {
   "cell_type": "code",
   "execution_count": 18,
   "metadata": {},
   "outputs": [
    {
     "name": "stdout",
     "output_type": "stream",
     "text": [
      "                  Close         High          Low         Open      Volume\n",
      "Date                                                                      \n",
      "2015-01-02  2058.199951  2072.360107  2046.040039  2058.899902  2708700000\n",
      "2015-01-05  2020.579956  2054.439941  2017.339966  2054.439941  3799120000\n",
      "2015-01-06  2002.609985  2030.250000  1992.439941  2022.150024  4460110000\n",
      "2015-01-07  2025.900024  2029.609985  2005.550049  2005.550049  3805480000\n",
      "2015-01-08  2062.139893  2064.080078  2030.609985  2030.609985  3934010000\n"
     ]
    }
   ],
   "source": [
    "print(SP500.head())\n",
    "\n",
    "sp500 = SP500[['Close']].copy()\n",
    "tesla = tsla[['Close']].copy()\n",
    "\n",
    "sp500.rename(columns={'Close': 'SP500_Close'}, inplace=True)\n",
    "tesla.rename(columns={'Close': 'TSLA_Close'}, inplace=True)\n",
    "sp500.to_csv('sp500.csv') \n",
    "\n",
    "#Handle missing values\n",
    "sp500.fillna(method='ffill', inplace=True)\n",
    "tesla.fillna(method='ffill', inplace=True)"
   ]
  },
  {
   "cell_type": "code",
   "execution_count": 19,
   "metadata": {},
   "outputs": [],
   "source": [
    "# Split/Train data\n",
    "split_date = '2023-01-01'\n",
    "\n",
    "#SP500\n",
    "sp500_train = sp500.loc[sp500.index < split_date, 'SP500_Close']\n",
    "sp500_test = sp500.loc[sp500.index >= split_date, 'SP500_Close']\n",
    "\n",
    "#Tesla\n",
    "tesla_train = tesla.loc[tesla.index < split_date, 'TSLA_Close']\n",
    "tesla_test = tesla.loc[tesla.index >= split_date, 'TSLA_Close']\n",
    "\n",
    "\n",
    "#Save data for models\n",
    "sp500_train.to_csv(\"Datasets/sp500_train.csv\")\n",
    "sp500_test.to_csv(\"Datasets/sp500_test.csv\")\n",
    "\n",
    "tesla_train.to_csv(\"Datasets/tesla_train.csv\")\n",
    "tesla_test.to_csv(\"Datasets/tesla_test.csv\")\n",
    "\n",
    "\n"
   ]
  },
  {
   "cell_type": "code",
   "execution_count": null,
   "metadata": {},
   "outputs": [],
   "source": []
  }
 ],
 "metadata": {
  "kernelspec": {
   "display_name": "tensorflow",
   "language": "python",
   "name": "python3"
  },
  "language_info": {
   "codemirror_mode": {
    "name": "ipython",
    "version": 3
   },
   "file_extension": ".py",
   "mimetype": "text/x-python",
   "name": "python",
   "nbconvert_exporter": "python",
   "pygments_lexer": "ipython3",
   "version": "3.11.5"
  }
 },
 "nbformat": 4,
 "nbformat_minor": 2
}
