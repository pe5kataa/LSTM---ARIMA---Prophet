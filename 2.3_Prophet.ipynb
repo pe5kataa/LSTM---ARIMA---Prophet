{
 "cells": [
  {
   "cell_type": "code",
   "execution_count": 1,
   "id": "dd278c46",
   "metadata": {},
   "outputs": [],
   "source": [
    "import numpy as np\n",
    "import pandas as pd\n",
    "\n",
    "from tensorflow.keras.models import Sequential\n",
    "from tensorflow.keras.layers import LSTM, Dense, Dropout\n",
    "from tensorflow.keras.preprocessing.sequence import TimeseriesGenerator\n",
    "from prophet import Prophet\n",
    "from sklearn.preprocessing import MinMaxScaler\n",
    "\n",
    "from sklearn.metrics import mean_squared_error, mean_absolute_error, mean_absolute_percentage_error\n",
    "from scipy.stats import zscore\n",
    "\n",
    "from matplotlib import pyplot as plt\n",
    "\n",
    "import warnings\n",
    "warnings.filterwarnings('ignore')"
   ]
  },
  {
   "cell_type": "code",
   "execution_count": 2,
   "id": "7dd2c8ad",
   "metadata": {},
   "outputs": [],
   "source": [
    "sp500_train = pd.read_csv('Datasets/sp500_train.csv', index_col='Date', parse_dates=True)\n",
    "sp500_test = pd.read_csv('Datasets/sp500_test.csv', index_col='Date', parse_dates=True)\n",
    "tesla_train = pd.read_csv('Datasets/tesla_train.csv', index_col ='Date', parse_dates=True)\n",
    "tesla_test = pd.read_csv('Datasets/tesla_test.csv', index_col='Date', parse_dates=True)"
   ]
  },
  {
   "cell_type": "markdown",
   "id": "df841333",
   "metadata": {},
   "source": [
    "#Prophet model\n",
    "model = Prophet()"
   ]
  }
 ],
 "metadata": {
  "kernelspec": {
   "display_name": "tensorflow",
   "language": "python",
   "name": "python3"
  },
  "language_info": {
   "codemirror_mode": {
    "name": "ipython",
    "version": 3
   },
   "file_extension": ".py",
   "mimetype": "text/x-python",
   "name": "python",
   "nbconvert_exporter": "python",
   "pygments_lexer": "ipython3",
   "version": "3.11.5"
  }
 },
 "nbformat": 4,
 "nbformat_minor": 5
}
