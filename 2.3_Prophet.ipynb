{
 "cells": [
  {
   "cell_type": "code",
   "execution_count": 4,
   "id": "dd278c46",
   "metadata": {},
   "outputs": [],
   "source": [
    "import numpy as np\n",
    "import pandas as pd\n",
    "\n",
    "from tensorflow.keras.models import Sequential\n",
    "from tensorflow.keras.layers import LSTM, Dense, Dropout\n",
    "from tensorflow.keras.preprocessing.sequence import TimeseriesGenerator\n",
    "from prophet import Prophet\n",
    "from sklearn.preprocessing import MinMaxScaler\n",
    "\n",
    "from sklearn.metrics import mean_squared_error, mean_absolute_error, mean_absolute_percentage_error\n",
    "from scipy.stats import zscore\n",
    "\n",
    "from matplotlib import pyplot as plt\n",
    "\n",
    "import warnings\n",
    "warnings.filterwarnings('ignore')"
   ]
  },
  {
   "cell_type": "code",
   "execution_count": 5,
   "id": "7dd2c8ad",
   "metadata": {},
   "outputs": [
    {
     "name": "stdout",
     "output_type": "stream",
     "text": [
      "<class 'pandas.core.frame.DataFrame'>\n",
      "DatetimeIndex: 418 entries, 2015-01-01 to 2022-12-29\n",
      "Data columns (total 1 columns):\n",
      " #   Column  Non-Null Count  Dtype  \n",
      "---  ------  --------------  -----  \n",
      " 0   Close   418 non-null    float64\n",
      "dtypes: float64(1)\n",
      "memory usage: 6.5 KB\n"
     ]
    }
   ],
   "source": [
    "sp500_train = pd.read_csv('Datasets/sp500_train.csv', index_col='Date', parse_dates=True)\n",
    "sp500_test = pd.read_csv('Datasets/sp500_test.csv', index_col='Date', parse_dates=True)\n",
    "tesla_train = pd.read_csv('Datasets/tesla_train.csv', index_col ='Date', parse_dates=True)\n",
    "tesla_test = pd.read_csv('Datasets/tesla_test.csv', index_col='Date', parse_dates=True)\n",
    "\n",
    "sp500_train.info()"
   ]
  },
  {
   "cell_type": "code",
   "execution_count": 8,
   "id": "bb4da107",
   "metadata": {},
   "outputs": [],
   "source": [
    "# Preprocess the data for the Prophet model\n",
    "sp500_train = sp500_train.reset_index()\n",
    "sp500_test = sp500_test.reset_index()\n",
    "sp500_train.rename(columns={'Date': 'ds', 'Close': 'y'}, inplace=True)\n",
    "sp500_test.rename(columns={'Date': 'ds', 'Close': 'y'}, inplace=True)\n",
    "\n",
    "tesla_train = tesla_train.reset_index()\n",
    "tesla_test = tesla_test.reset_index()\n",
    "tesla_train.rename(columns={'Date': 'ds', 'Close': 'y'}, inplace=True)\n",
    "tesla_test.rename(columns={'Date': 'ds', 'Close': 'y'}, inplace=True)"
   ]
  },
  {
   "cell_type": "code",
   "execution_count": 7,
   "id": "af2f93c3",
   "metadata": {},
   "outputs": [
    {
     "ename": "ValueError",
     "evalue": "Dataframe must have columns \"ds\" and \"y\" with the dates and values respectively.",
     "output_type": "error",
     "traceback": [
      "\u001b[0;31m---------------------------------------------------------------------------\u001b[0m",
      "\u001b[0;31mValueError\u001b[0m                                Traceback (most recent call last)",
      "Cell \u001b[0;32mIn[7], line 2\u001b[0m\n\u001b[1;32m      1\u001b[0m model \u001b[38;5;241m=\u001b[39m Prophet(weekly_seasonality\u001b[38;5;241m=\u001b[39m\u001b[38;5;28;01mTrue\u001b[39;00m, yearly_seasonality\u001b[38;5;241m=\u001b[39m\u001b[38;5;28;01mTrue\u001b[39;00m)\n\u001b[0;32m----> 2\u001b[0m \u001b[43mmodel\u001b[49m\u001b[38;5;241;43m.\u001b[39;49m\u001b[43mfit\u001b[49m\u001b[43m(\u001b[49m\u001b[43msp500_train\u001b[49m\u001b[43m)\u001b[49m\n",
      "File \u001b[0;32m/opt/miniconda3/envs/tensorflow/lib/python3.11/site-packages/prophet/forecaster.py:1217\u001b[0m, in \u001b[0;36mProphet.fit\u001b[0;34m(self, df, **kwargs)\u001b[0m\n\u001b[1;32m   1213\u001b[0m \u001b[38;5;28;01mif\u001b[39;00m \u001b[38;5;28mself\u001b[39m\u001b[38;5;241m.\u001b[39mhistory \u001b[38;5;129;01mis\u001b[39;00m \u001b[38;5;129;01mnot\u001b[39;00m \u001b[38;5;28;01mNone\u001b[39;00m:\n\u001b[1;32m   1214\u001b[0m     \u001b[38;5;28;01mraise\u001b[39;00m \u001b[38;5;167;01mException\u001b[39;00m(\u001b[38;5;124m'\u001b[39m\u001b[38;5;124mProphet object can only be fit once. \u001b[39m\u001b[38;5;124m'\u001b[39m\n\u001b[1;32m   1215\u001b[0m                     \u001b[38;5;124m'\u001b[39m\u001b[38;5;124mInstantiate a new object.\u001b[39m\u001b[38;5;124m'\u001b[39m)\n\u001b[0;32m-> 1217\u001b[0m model_inputs \u001b[38;5;241m=\u001b[39m \u001b[38;5;28;43mself\u001b[39;49m\u001b[38;5;241;43m.\u001b[39;49m\u001b[43mpreprocess\u001b[49m\u001b[43m(\u001b[49m\u001b[43mdf\u001b[49m\u001b[43m,\u001b[49m\u001b[43m \u001b[49m\u001b[38;5;241;43m*\u001b[39;49m\u001b[38;5;241;43m*\u001b[39;49m\u001b[43mkwargs\u001b[49m\u001b[43m)\u001b[49m\n\u001b[1;32m   1218\u001b[0m initial_params \u001b[38;5;241m=\u001b[39m \u001b[38;5;28mself\u001b[39m\u001b[38;5;241m.\u001b[39mcalculate_initial_params(model_inputs\u001b[38;5;241m.\u001b[39mK)\n\u001b[1;32m   1220\u001b[0m dat \u001b[38;5;241m=\u001b[39m dataclasses\u001b[38;5;241m.\u001b[39masdict(model_inputs)\n",
      "File \u001b[0;32m/opt/miniconda3/envs/tensorflow/lib/python3.11/site-packages/prophet/forecaster.py:1126\u001b[0m, in \u001b[0;36mProphet.preprocess\u001b[0;34m(self, df, **kwargs)\u001b[0m\n\u001b[1;32m   1119\u001b[0m \u001b[38;5;250m\u001b[39m\u001b[38;5;124;03m\"\"\"\u001b[39;00m\n\u001b[1;32m   1120\u001b[0m \u001b[38;5;124;03mReformats historical data, standardizes y and extra regressors, sets seasonalities and changepoints.\u001b[39;00m\n\u001b[1;32m   1121\u001b[0m \n\u001b[1;32m   1122\u001b[0m \u001b[38;5;124;03mSaves the preprocessed data to the instantiated object, and also returns the relevant components\u001b[39;00m\n\u001b[1;32m   1123\u001b[0m \u001b[38;5;124;03mas a ModelInputData object.\u001b[39;00m\n\u001b[1;32m   1124\u001b[0m \u001b[38;5;124;03m\"\"\"\u001b[39;00m\n\u001b[1;32m   1125\u001b[0m \u001b[38;5;28;01mif\u001b[39;00m (\u001b[38;5;124m'\u001b[39m\u001b[38;5;124mds\u001b[39m\u001b[38;5;124m'\u001b[39m \u001b[38;5;129;01mnot\u001b[39;00m \u001b[38;5;129;01min\u001b[39;00m df) \u001b[38;5;129;01mor\u001b[39;00m (\u001b[38;5;124m'\u001b[39m\u001b[38;5;124my\u001b[39m\u001b[38;5;124m'\u001b[39m \u001b[38;5;129;01mnot\u001b[39;00m \u001b[38;5;129;01min\u001b[39;00m df):\n\u001b[0;32m-> 1126\u001b[0m     \u001b[38;5;28;01mraise\u001b[39;00m \u001b[38;5;167;01mValueError\u001b[39;00m(\n\u001b[1;32m   1127\u001b[0m         \u001b[38;5;124m'\u001b[39m\u001b[38;5;124mDataframe must have columns \u001b[39m\u001b[38;5;124m\"\u001b[39m\u001b[38;5;124mds\u001b[39m\u001b[38;5;124m\"\u001b[39m\u001b[38;5;124m and \u001b[39m\u001b[38;5;124m\"\u001b[39m\u001b[38;5;124my\u001b[39m\u001b[38;5;124m\"\u001b[39m\u001b[38;5;124m with the dates and \u001b[39m\u001b[38;5;124m'\u001b[39m\n\u001b[1;32m   1128\u001b[0m         \u001b[38;5;124m'\u001b[39m\u001b[38;5;124mvalues respectively.\u001b[39m\u001b[38;5;124m'\u001b[39m\n\u001b[1;32m   1129\u001b[0m     )\n\u001b[1;32m   1130\u001b[0m history \u001b[38;5;241m=\u001b[39m df[df[\u001b[38;5;124m'\u001b[39m\u001b[38;5;124my\u001b[39m\u001b[38;5;124m'\u001b[39m]\u001b[38;5;241m.\u001b[39mnotnull()]\u001b[38;5;241m.\u001b[39mcopy()\n\u001b[1;32m   1131\u001b[0m \u001b[38;5;28;01mif\u001b[39;00m history\u001b[38;5;241m.\u001b[39mshape[\u001b[38;5;241m0\u001b[39m] \u001b[38;5;241m<\u001b[39m \u001b[38;5;241m2\u001b[39m:\n",
      "\u001b[0;31mValueError\u001b[0m: Dataframe must have columns \"ds\" and \"y\" with the dates and values respectively."
     ]
    }
   ],
   "source": [
    "model = Prophet(weekly_seasonality=True, yearly_seasonality=True)\n",
    "model.fit(sp500_train)\n"
   ]
  }
 ],
 "metadata": {
  "kernelspec": {
   "display_name": "tensorflow",
   "language": "python",
   "name": "python3"
  },
  "language_info": {
   "codemirror_mode": {
    "name": "ipython",
    "version": 3
   },
   "file_extension": ".py",
   "mimetype": "text/x-python",
   "name": "python",
   "nbconvert_exporter": "python",
   "pygments_lexer": "ipython3",
   "version": "3.11.5"
  }
 },
 "nbformat": 4,
 "nbformat_minor": 5
}
